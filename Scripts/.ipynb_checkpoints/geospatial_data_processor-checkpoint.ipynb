{
 "cells": [
  {
   "cell_type": "code",
   "execution_count": 5,
   "metadata": {},
   "outputs": [],
   "source": [
    "import geopandas as gpd\n",
    "import numpy as np\n",
    "import rasterio\n",
    "from scipy.spatial import cKDTree\n",
    "from scipy.ndimage import distance_transform_edt\n",
    "import os\n",
    "import matplotlib.pyplot as plt\n",
    "from multiprocessing import Pool\n",
    "from IPython.display import display\n",
    "from rasterio.warp import calculate_default_transform, reproject, Resampling\n",
    "from rasterio.plot import show\n",
    "import numpy.ma as ma"
   ]
  },
  {
   "cell_type": "code",
   "execution_count": 6,
   "metadata": {},
   "outputs": [],
   "source": [
    "# Constants\n",
    "MAIN_CRS = 'EPSG:3857'"
   ]
  },
  {
   "cell_type": "code",
   "execution_count": 7,
   "metadata": {},
   "outputs": [],
   "source": [
    "class GeoDataProcessor:\n",
    "    def __init__(self, farm_path, road_path, raster_path, other_lu_path):\n",
    "        self.farm, self.road, self.LU, self.lu, self.profile, self.src = self.load_data(farm_path, road_path, raster_path, other_lu_path)\n",
    "        self.mask = self.LU > 0  # Create a mask to identify non-zero values\n",
    "\n",
    "    def load_data(self, farm_path, road_path, raster_path, other_lu_path):\n",
    "        \"\"\"Load data from files.\"\"\"\n",
    "        display(\"Loading data...\")\n",
    "        farm = gpd.read_file(farm_path).to_crs(MAIN_CRS)\n",
    "        road = gpd.read_file(road_path)\n",
    "        with rasterio.open(raster_path) as src:\n",
    "            LU = src.read(1)\n",
    "            profile = src.profile  # Save the profile for later use\n",
    "        with rasterio.open(other_lu_path) as src_other:\n",
    "            lu = src_other.read(1)\n",
    "        return farm, road, LU, lu, profile, src\n",
    "\n",
    "    def ckdtree_distance(self, geom_df):\n",
    "        \"\"\"Calculate Euclidean distance using cKDTree for points or lines.\"\"\"\n",
    "        display(\"Calculating Euclidean distance using cKDTree...\")\n",
    "        # Convert geometries to NumPy array\n",
    "        geom_data = np.concatenate([np.array(geom.coords) for geom in geom_df.geometry])\n",
    "\n",
    "        # Create a KDTree for fast nearest-neighbor search\n",
    "        tree = cKDTree(geom_data)\n",
    "\n",
    "        # Create a new array in the shape of LU and fill with inf values\n",
    "        D = np.full_like(self.LU, np.inf, dtype=np.float64)\n",
    "\n",
    "        # Create a grid of cell center coordinates\n",
    "        rows, cols = np.indices(self.LU.shape)\n",
    "        cell_centers = np.column_stack(self.src.xy(rows.ravel(), cols.ravel()))\n",
    "\n",
    "        # Use the KDTree to find the index of the nearest geometry point\n",
    "        distances, indices = tree.query(cell_centers)\n",
    "\n",
    "        # Update the distance array with the calculated distances\n",
    "        D.ravel()[self.mask.ravel()] = distances\n",
    "\n",
    "        return D\n",
    "\n",
    "    def distance_to_other_lu(self):\n",
    "        \"\"\"Calculate Euclidean distance to other land use.\"\"\"\n",
    "        display(\"Calculating Euclidean distance to other land use...\")\n",
    "        # Invert the raster so that cells are represented by 0 and NoData are represented by 1\n",
    "        inverted_lu_raster = np.max(np.unique(self.lu)) - self.lu\n",
    "\n",
    "        # Calculate the Euclidean distance transform for the inverted raster\n",
    "        distance_transform = distance_transform_edt(inverted_lu_raster)\n",
    "\n",
    "        # Multiply the original raster by the distance transform\n",
    "        distance_to_closest_other_lu = np.multiply(self.LU, distance_transform)\n",
    "\n",
    "        return distance_to_closest_other_lu\n",
    "\n",
    "    def save_results(self, results, output_path):\n",
    "        \"\"\"Save results to a file.\"\"\"\n",
    "        display(f\"Saving results to {output_path}...\")\n",
    "        with rasterio.open(output_path, 'w', **self.profile) as dst:\n",
    "            dst.write(results, 1)\n",
    "\n",
    "    def plot_raster(self, raster_path):\n",
    "        \"\"\"Plot a raster file.\"\"\"\n",
    "        display(f\"Plotting raster from {raster_path}...\")\n",
    "        with rasterio.open(raster_path) as src_output:\n",
    "            output_raster = src_output.read(1)\n",
    "            fig, ax = plt.subplots(figsize=(8, 8))\n",
    "            non_zero_mask = output_raster != 0\n",
    "            show(ma.masked_where(~non_zero_mask, output_raster), ax=ax, cmap= 'viridis')\n",
    "            cax = fig.add_axes([0.92, 0.15, 0.02, 0.7])  # [left, bottom, width, height]\n",
    "            cbar = plt.colorbar(ax.get_images()[0], cax=cax)\n",
    "            ax.axis('off')\n",
    "            plt.show()\n",
    "\n",
    "    def reproject_raster(self, input_path, output_path, dst_crs='EPSG:4326'):\n",
    "        \"\"\"Reproject a raster file to a different coordinate system.\"\"\"\n",
    "        try:\n",
    "            with rasterio.open(input_path) as src:\n",
    "                # Calculate the transform and dimensions for the new coordinate system\n",
    "                transform, width, height = calculate_default_transform(\n",
    "                    src.crs, dst_crs, src.width, src.height, *src.bounds)\n",
    "                \n",
    "                # Prepare the metadata for the new raster file\n",
    "                kwargs = src.meta.copy()\n",
    "                kwargs.update({\n",
    "                    'crs': dst_crs,\n",
    "                    'transform': transform,\n",
    "                    'width': width,\n",
    "                    'height': height\n",
    "                })\n",
    "\n",
    "                # Create the new raster file\n",
    "                with rasterio.open(output_path, 'w', **kwargs) as dst:\n",
    "                    for i in range(1, src.count + 1):\n",
    "                        # Reproject each band of the raster\n",
    "                        reproject(\n",
    "                            source=rasterio.band(src, i),\n",
    "                            destination=rasterio.band(dst, i),\n",
    "                            src_transform=src.transform,\n",
    "                            src_crs=src.crs,\n",
    "                            dst_transform=transform,\n",
    "                            dst_crs=dst_crs,\n",
    "                            resampling=Resampling.nearest)\n",
    "            display(f\"Reprojection completed. The output raster is saved at {output_path}\")\n",
    "        except Exception as e:\n",
    "            display(f\"An error occurred while reprojecting the raster: {e}\")"
   ]
  },
  {
   "cell_type": "code",
   "execution_count": 8,
   "metadata": {},
   "outputs": [
    {
     "data": {
      "text/plain": [
       "'Loading data...'"
      ]
     },
     "metadata": {},
     "output_type": "display_data"
    },
    {
     "data": {
      "text/plain": [
       "'Calculating Euclidean distance using cKDTree...'"
      ]
     },
     "metadata": {},
     "output_type": "display_data"
    },
    {
     "data": {
      "text/plain": [
       "'An error occurred: NumPy boolean array indexing assignment cannot assign 1145700 input values to the 377319 output values where the mask is true'"
      ]
     },
     "metadata": {},
     "output_type": "display_data"
    }
   ],
   "source": [
    "if __name__ == \"__main__\":\n",
    "    try:\n",
    "        processor = GeoDataProcessor(\"../farm/farm_new.shp\", \"../osm_network/G_e.shp\", \"../raster/pasture_3857.tif\", \"../raster/water_3857.tif\")\n",
    "        dist_farm = processor.ckdtree_distance(processor.farm)\n",
    "        dist_road = processor.ckdtree_distance(processor.road)\n",
    "        dist_lu = processor.distance_to_other_lu()\n",
    "        processor.save_results(dist_farm, \"./dist_farm.tif\")\n",
    "        processor.save_results(dist_road, \"./dist_road.tif\")\n",
    "        processor.save_results(dist_lu, \"./dist_lu.tif\")\n",
    "        processor.plot_raster(\"./dist_farm.tif\")\n",
    "        processor.plot_raster(\"./dist_road.tif\")\n",
    "        processor.plot_raster(\"./dist_lu.tif\")\n",
    "        processor.reproject_raster('./raster/proximity_water.tif', './raster/proximity_water_4326.tif')\n",
    "    except Exception as e:\n",
    "        display(f\"An error occurred: {e}\")"
   ]
  }
 ],
 "metadata": {
  "kernelspec": {
   "display_name": "Python 3",
   "language": "python",
   "name": "python3"
  },
  "language_info": {
   "codemirror_mode": {
    "name": "ipython",
    "version": 3
   },
   "file_extension": ".py",
   "mimetype": "text/x-python",
   "name": "python",
   "nbconvert_exporter": "python",
   "pygments_lexer": "ipython3",
   "version": "3.11.9"
  }
 },
 "nbformat": 4,
 "nbformat_minor": 2
}
