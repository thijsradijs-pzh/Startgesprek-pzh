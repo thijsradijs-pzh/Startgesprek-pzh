{
 "cells": [
  {
   "cell_type": "code",
   "execution_count": 10,
   "metadata": {},
   "outputs": [],
   "source": [
    "import h3\n",
    "import pandas as pd\n",
    "import geopandas as gpd\n",
    "from shapely.geometry import Polygon, mapping\n",
    "from concurrent.futures import ProcessPoolExecutor"
   ]
  },
  {
   "cell_type": "code",
   "execution_count": 11,
   "metadata": {},
   "outputs": [],
   "source": [
    "class H3ShapefileGenerator:\n",
    "    def __init__(self, shapefile_path, output_path, resolution=9):\n",
    "        self.shapefile_path = shapefile_path\n",
    "        self.output_path = output_path\n",
    "        self.resolution = resolution\n",
    "        self.polygon = self.load_shapefile().geometry[0]\n",
    "\n",
    "    def load_shapefile(self):\n",
    "        return gpd.read_file(self.shapefile_path).to_crs(\"EPSG:4326\")\n",
    "\n",
    "    def convert_polygon_to_h3_indices(self):\n",
    "        polygon_geojson = mapping(self.polygon)\n",
    "        return h3.polyfill(polygon_geojson, self.resolution)\n",
    "\n",
    "    @staticmethod\n",
    "    def convert_h3_index_to_polygon(h3_index):\n",
    "        try:\n",
    "            coords = h3.h3_to_geo_boundary(h3_index)\n",
    "            return Polygon(coord[::-1] for coord in coords)\n",
    "        except Exception as e:\n",
    "            print(f\"Error converting H3 index to polygon: {e}\")\n",
    "            return None\n",
    "\n",
    "    def generate_shapefile_from_h3_indices(self):\n",
    "        hex_df = pd.DataFrame(self.convert_polygon_to_h3_indices(), columns=['hex9'])\n",
    "        with ProcessPoolExecutor() as executor:\n",
    "            hex_df['geometry'] = list(executor.map(self.convert_h3_index_to_polygon, hex_df['hex9']))\n",
    "        hex_df.dropna(subset=['geometry'], inplace=True)\n",
    "        gdf = gpd.GeoDataFrame(hex_df, geometry='geometry', crs=4326)\n",
    "        print(gdf)\n",
    "        gdf.to_file(self.output_path)\n",
    "        print(f\"Shapefile saved at {self.output_path}\")\n"
   ]
  },
  {
   "cell_type": "code",
   "execution_count": 12,
   "metadata": {},
   "outputs": [
    {
     "name": "stdout",
     "output_type": "stream",
     "text": [
      "                  hex9                                           geometry\n",
      "0      897ab475d03ffff  POLYGON ((51.65574 4.31006, 51.65567 4.31173, ...\n",
      "1      897ab44f047ffff  POLYGON ((52.06742 4.34963, 52.06735 4.35129, ...\n",
      "2      897ab68406fffff  POLYGON ((52.21172 4.48075, 52.21165 4.48241, ...\n",
      "3      897ab40720bffff  POLYGON ((51.74769 4.02597, 51.74762 4.02764, ...\n",
      "4      897ab440cafffff  POLYGON ((52.04300 4.24012, 52.04293 4.24178, ...\n",
      "...                ...                                                ...\n",
      "62340  897ab409833ffff  POLYGON ((51.87087 4.18754, 51.87080 4.18920, ...\n",
      "62341  897ab6a9d0bffff  POLYGON ((52.04772 4.76415, 52.04765 4.76580, ...\n",
      "62342  897ab40eec7ffff  POLYGON ((51.73714 4.10910, 51.73707 4.11076, ...\n",
      "62343  897ab6a706fffff  POLYGON ((51.91391 4.61040, 51.91384 4.61205, ...\n",
      "62344  897ab6a4a8bffff  POLYGON ((51.82972 4.65481, 51.82965 4.65647, ...\n",
      "\n",
      "[62345 rows x 2 columns]\n",
      "Shapefile saved at ../../hex/h3_list.shp\n"
     ]
    }
   ],
   "source": [
    "if __name__ == \"__main__\":\n",
    "    generator = H3ShapefileGenerator(\n",
    "        shapefile_path=\"../../shapefiles/zh_poly/zh_poly.shp\",\n",
    "        output_path='../../hex/h3_list.shp'\n",
    "    )\n",
    "    generator.generate_shapefile_from_h3_indices()"
   ]
  }
 ],
 "metadata": {
  "kernelspec": {
   "display_name": "Python 3 (ipykernel)",
   "language": "python",
   "name": "python3"
  },
  "language_info": {
   "codemirror_mode": {
    "name": "ipython",
    "version": 3
   },
   "file_extension": ".py",
   "mimetype": "text/x-python",
   "name": "python",
   "nbconvert_exporter": "python",
   "pygments_lexer": "ipython3",
   "version": "3.11.7"
  }
 },
 "nbformat": 4,
 "nbformat_minor": 4
}
