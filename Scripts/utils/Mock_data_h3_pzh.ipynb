{
 "cells": [
  {
   "cell_type": "code",
   "execution_count": 18,
   "metadata": {},
   "outputs": [],
   "source": [
    "import os\n",
    "import random\n",
    "import geopandas as gpd\n",
    "import h3\n",
    "import pandas as pd\n",
    "from shapely.geometry import Point, Polygon"
   ]
  },
  {
   "cell_type": "code",
   "execution_count": 19,
   "metadata": {},
   "outputs": [],
   "source": [
    "class H3MockDataGenerator:\n",
    "    def __init__(self, shapefile_path, csv_path, output_path, num_points=9999, resolution=9):\n",
    "        self.shapefile_path = shapefile_path\n",
    "        self.csv_path = csv_path\n",
    "        self.output_path = output_path\n",
    "        self.num_points = num_points\n",
    "        self.resolution = resolution\n",
    "        self.polygon = self.load_shapefile().geometry.unary_union\n",
    "\n",
    "    def load_shapefile(self):\n",
    "        gdf = gpd.read_file(self.shapefile_path)\n",
    "        return gdf.to_crs(\"EPSG:4326\")\n",
    "\n",
    "    def generate_random_location(self):\n",
    "        minx, miny, maxx, maxy = self.polygon.bounds\n",
    "        while True:\n",
    "            lat = random.uniform(miny, maxy)\n",
    "            lon = random.uniform(minx, maxx)\n",
    "            point = Point(lon, lat)\n",
    "            if self.polygon.contains(point):\n",
    "                return lat, lon\n",
    "\n",
    "    def generate_mock_data(self):\n",
    "        data = [{\n",
    "            \"hex9\": h3.geo_to_h3(*self.generate_random_location(), self.resolution),\n",
    "            \"value\": random.randint(1, 9999)\n",
    "        } for _ in range(self.num_points)]\n",
    "        return pd.DataFrame(data)\n",
    "\n",
    "    def save_to_csv(self, df):\n",
    "        if not os.path.exists('hex'):\n",
    "            os.makedirs('hex')\n",
    "        df.to_csv(self.csv_path, index=False)\n",
    "\n",
    "    def convert_h3_indices_to_geometries(self, df):\n",
    "        geometries = [Polygon(h3.h3_to_geo_boundary(h, geo_json=True)) for h in df[\"hex9\"]]\n",
    "        return gpd.GeoDataFrame(df, geometry=geometries)\n",
    "\n",
    "    def run(self):\n",
    "        df = self.generate_mock_data()\n",
    "        self.save_to_csv(df)\n",
    "        df = pd.read_csv(self.csv_path)\n",
    "        gdf = self.convert_h3_indices_to_geometries(df)\n",
    "        gdf.to_file(self.output_path)"
   ]
  },
  {
   "cell_type": "code",
   "execution_count": 20,
   "metadata": {},
   "outputs": [],
   "source": [
    "if __name__ == \"__main__\":\n",
    "    generator = H3MockDataGenerator(\n",
    "        shapefile_path=\"../../shapefiles/zh_poly.shp\",\n",
    "        csv_path=\"../../hex/h3_farm_mock_data.csv\",\n",
    "        output_path=\"../../app_data/h3_indices_7.shp\"\n",
    "    )\n",
    "    generator.run()"
   ]
  }
 ],
 "metadata": {
  "kernelspec": {
   "display_name": "Python 3 (ipykernel)",
   "language": "python",
   "name": "python3"
  },
  "language_info": {
   "codemirror_mode": {
    "name": "ipython",
    "version": 3
   },
   "file_extension": ".py",
   "mimetype": "text/x-python",
   "name": "python",
   "nbconvert_exporter": "python",
   "pygments_lexer": "ipython3",
   "version": "3.11.7"
  }
 },
 "nbformat": 4,
 "nbformat_minor": 4
}
